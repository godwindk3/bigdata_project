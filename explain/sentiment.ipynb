{
 "cells": [
  {
   "cell_type": "code",
   "execution_count": 2,
   "metadata": {},
   "outputs": [],
   "source": [
    "from vaderSentiment.vaderSentiment import SentimentIntensityAnalyzer"
   ]
  },
  {
   "cell_type": "markdown",
   "metadata": {},
   "source": [
    "# Khởi tạo đối tượng"
   ]
  },
  {
   "cell_type": "code",
   "execution_count": 5,
   "metadata": {},
   "outputs": [],
   "source": [
    "analyzer = SentimentIntensityAnalyzer()"
   ]
  },
  {
   "cell_type": "markdown",
   "metadata": {},
   "source": [
    "- Đoạn văn bản ngẫu nhiên"
   ]
  },
  {
   "cell_type": "code",
   "execution_count": 15,
   "metadata": {},
   "outputs": [],
   "source": [
    "sentence = \"Today is a nice day.\""
   ]
  },
  {
   "attachments": {
    "image.png": {
     "image/png": "[encoded data removed]"
    }
   },
   "cell_type": "markdown",
   "metadata": {},
   "source": [
    "- Lấy ra dictionary của kết quả phân tích, kết quả trả về gồm những field sau:\n",
    "    - neg: mức độ tiêu cực.\n",
    "    - neu: mức độ trung bình.\n",
    "    - pos: mức độ tích cực.\n",
    "    - compound: là tổng được chuẩn hóa và điều chỉnh bởi các field còn lại, những mốc tiêu chuẩn mà thư viện đặt ra:\n",
    "        - compound >= 0.05: tích cực.\n",
    "        - compound <= -0.05: tiêu cực.\n",
    "        - -0.05 < compound < 0.05: trung bình. \n",
    "\n",
    "        ![image.png](attachment:image.png)\n",
    "\n",
    "\n",
    "- neu, neg, pos: Thực chất là tỉ lệ các từ mỗi loại của đoạn văn bản đó."
   ]
  },
  {
   "cell_type": "code",
   "execution_count": 16,
   "metadata": {},
   "outputs": [
    {
     "data": {
      "text/plain": [
       "{'neg': 0.0, 'neu': 0.588, 'pos': 0.412, 'compound': 0.4215}"
      ]
     },
     "execution_count": 16,
     "metadata": {},
     "output_type": "execute_result"
    }
   ],
   "source": [
    "analyzer.polarity_scores(sentence)"
   ]
  },
  {
   "cell_type": "code",
   "execution_count": 30,
   "metadata": {},
   "outputs": [],
   "source": [
    "def get_sentiment(sentence: str):\n",
    "    sentiment = analyzer.polarity_scores(sentence)[\"compound\"]\n",
    "    if (sentiment >= 0.05):\n",
    "        return \"Tích cực\", {\"compound score\": sentiment}\n",
    "    elif (sentiment <= -0.05):\n",
    "        return \"Tiêu cực\", {\"compound score\": sentiment}\n",
    "    else:\n",
    "        return \"Trung bình\", {\"compound score\": sentiment}"
   ]
  },
  {
   "cell_type": "markdown",
   "metadata": {},
   "source": [
    "# Test một vài trường hợp"
   ]
  },
  {
   "cell_type": "code",
   "execution_count": 25,
   "metadata": {},
   "outputs": [
    {
     "data": {
      "text/plain": [
       "('Tích cực', {'compound score': 0.4003})"
      ]
     },
     "execution_count": 25,
     "metadata": {},
     "output_type": "execute_result"
    }
   ],
   "source": [
    "pos_sentence = \"I freaking love it!\"\n",
    "get_sentiment(pos_sentence) "
   ]
  },
  {
   "cell_type": "code",
   "execution_count": 33,
   "metadata": {},
   "outputs": [
    {
     "data": {
      "text/plain": [
       "('Trung bình', {'compound score': 0.0})"
      ]
     },
     "execution_count": 33,
     "metadata": {},
     "output_type": "execute_result"
    }
   ],
   "source": [
    "neu_sentence = \"This song is mid.\"\n",
    "get_sentiment(neu_sentence)"
   ]
  },
  {
   "cell_type": "code",
   "execution_count": 34,
   "metadata": {},
   "outputs": [
    {
     "data": {
      "text/plain": [
       "('Tiêu cực', {'compound score': -0.6808})"
      ]
     },
     "execution_count": 34,
     "metadata": {},
     "output_type": "execute_result"
    }
   ],
   "source": [
    "neg_sentence = \"Why don't you go to hell?\"\n",
    "get_sentiment(neg_sentence)"
   ]
  },
  {
   "cell_type": "markdown",
   "metadata": {},
   "source": [
    "# Test một vài câu phức tạp hơn."
   ]
  },
  {
   "cell_type": "code",
   "execution_count": 36,
   "metadata": {},
   "outputs": [
    {
     "data": {
      "text/plain": [
       "('Tích cực', {'compound score': 0.7783})"
      ]
     },
     "execution_count": 36,
     "metadata": {},
     "output_type": "execute_result"
    }
   ],
   "source": [
    "test_case1 = \"\"\"\n",
    "Despite facing setbacks in the initial stages of the project, the resilient team persevered, \n",
    "learned valuable lessons, and ultimately achieved success in delivering a product that exceeded expectations.\n",
    "\"\"\"\n",
    "get_sentiment(test_case1)"
   ]
  },
  {
   "cell_type": "code",
   "execution_count": 38,
   "metadata": {},
   "outputs": [
    {
     "data": {
      "text/plain": [
       "('Tiêu cực', {'compound score': -0.34})"
      ]
     },
     "execution_count": 38,
     "metadata": {},
     "output_type": "execute_result"
    }
   ],
   "source": [
    "test_case2 = \"\"\"\n",
    "After the unexpected turn of events, the protagonist found themselves in a perplexing situation, \n",
    "navigating a complex web of emotions and uncertainties.\n",
    "\"\"\"\n",
    "get_sentiment(test_case2)"
   ]
  },
  {
   "cell_type": "code",
   "execution_count": 39,
   "metadata": {},
   "outputs": [
    {
     "data": {
      "text/plain": [
       "('Tiêu cực', {'compound score': -0.7715})"
      ]
     },
     "execution_count": 39,
     "metadata": {},
     "output_type": "execute_result"
    }
   ],
   "source": [
    "test_case3 = \"\"\"\n",
    "Despite the anticipation surrounding the highly-anticipated game release, \n",
    "players were met with a slew of game-breaking bugs and unoptimized graphics, \n",
    "leading to a collective sense of disappointment and frustration within the gaming community\n",
    "\"\"\"\n",
    "get_sentiment(test_case3)"
   ]
  }
 ],
 "metadata": {
  "kernelspec": {
   "display_name": "Python 3",
   "language": "python",
   "name": "python3"
  },
  "language_info": {
   "codemirror_mode": {
    "name": "ipython",
    "version": 3
   },
   "file_extension": ".py",
   "mimetype": "text/x-python",
   "name": "python",
   "nbconvert_exporter": "python",
   "pygments_lexer": "ipython3",
   "version": "3.11.3"
  }
 },
 "nbformat": 4,
 "nbformat_minor": 2
}
